{
 "cells": [
  {
   "cell_type": "markdown",
   "id": "867b74a3",
   "metadata": {},
   "source": [
    "<h2> <span style=\"color:teal\"> Facebook posts connector</span> </h2>"
   ]
  },
  {
   "cell_type": "markdown",
   "id": "58257237",
   "metadata": {},
   "source": [
    "Description:\n",
    "- implement a fcb connector using Python 3 and the Meta Graph API\n",
    "- our objective is to fetch posts from business pages i own\n",
    "- the collected posts are filterd by a given topic(death of Jacques Chirac) and stored in MongoDB\n",
    "\n",
    "* NB: due to fcb's privacy policy it is not possible to collect posts from all public pages so i will use a personal page\n"
   ]
  },
  {
   "cell_type": "markdown",
   "id": "0c9ece79",
   "metadata": {},
   "source": [
    "Project steps:\n",
    "- necessary libraries importation\n",
    "- load the following envirement variables in a .env file:\n",
    "    * ACCESS_TOKEN=fcb_token(from the app on Graph API Explorer)\n",
    "    * PAGE_ID=id(from the app on Graph API Explorer)\n",
    "    * MONGODB_URI=mongodb://localhost:27017\n",
    "- connect to MongoDB\n",
    "- collect posts from private fcb page , we will need the following parameters:\n",
    "    * page_id:\n",
    "    * token\n",
    "    * topic\n",
    "    * limit number of posts to retrieve    \n",
    "- save posts to MongoDB\n",
    "- execute the connector"
   ]
  },
  {
   "cell_type": "code",
   "execution_count": 2,
   "id": "682aa55f",
   "metadata": {
    "scrolled": false
   },
   "outputs": [
    {
     "name": "stdout",
     "output_type": "stream",
     "text": [
      "Requirement already satisfied: requests in c:\\users\\maria\\anaconda3\\lib\\site-packages (2.31.0)\n",
      "Requirement already satisfied: pymongo in c:\\users\\maria\\anaconda3\\lib\\site-packages (4.13.0)\n",
      "Requirement already satisfied: python-dotenv in c:\\users\\maria\\anaconda3\\lib\\site-packages (0.21.0)\n",
      "Requirement already satisfied: charset-normalizer<4,>=2 in c:\\users\\maria\\anaconda3\\lib\\site-packages (from requests) (2.0.4)\n",
      "Requirement already satisfied: idna<4,>=2.5 in c:\\users\\maria\\anaconda3\\lib\\site-packages (from requests) (3.4)\n",
      "Requirement already satisfied: urllib3<3,>=1.21.1 in c:\\users\\maria\\anaconda3\\lib\\site-packages (from requests) (1.26.16)\n",
      "Requirement already satisfied: certifi>=2017.4.17 in c:\\users\\maria\\anaconda3\\lib\\site-packages (from requests) (2023.7.22)\n",
      "Requirement already satisfied: dnspython<3.0.0,>=1.16.0 in c:\\users\\maria\\anaconda3\\lib\\site-packages (from pymongo) (2.7.0)\n",
      "Note: you may need to restart the kernel to use updated packages.\n"
     ]
    }
   ],
   "source": [
    "pip install requests pymongo python-dotenv"
   ]
  },
  {
   "cell_type": "markdown",
   "id": "45419498",
   "metadata": {},
   "source": [
    "<h4>1. Import required libraries</h4>"
   ]
  },
  {
   "cell_type": "code",
   "execution_count": 1,
   "id": "0025a48d",
   "metadata": {},
   "outputs": [],
   "source": [
    "from dotenv import load_dotenv\n",
    "from pymongo import MongoClient\n",
    "import requests\n",
    "import os"
   ]
  },
  {
   "cell_type": "markdown",
   "id": "72baf925",
   "metadata": {},
   "source": [
    "<h4>2.Load environment variables</h4>"
   ]
  },
  {
   "cell_type": "code",
   "execution_count": 2,
   "id": "5535f555",
   "metadata": {},
   "outputs": [],
   "source": [
    "load_dotenv()\n",
    "\n",
    "ACCESS_TOKEN = os.getenv(\"ACCESS_TOKEN\")\n",
    "PAGE_ID = os.getenv(\"PAGE_ID\")\n",
    "MONGODB_URI = os.getenv(\"MONGODB_URI\")"
   ]
  },
  {
   "cell_type": "markdown",
   "id": "8c859bf9",
   "metadata": {},
   "source": [
    "<h4>3.Connect to MongoDB</h4>"
   ]
  },
  {
   "cell_type": "code",
   "execution_count": 3,
   "id": "0fd0d151",
   "metadata": {},
   "outputs": [],
   "source": [
    "client = MongoClient(MONGODB_URI)\n",
    "db = client[\"facebook_data\"]\n",
    "collection = db[\"posts\"]"
   ]
  },
  {
   "cell_type": "markdown",
   "id": "ec98a165",
   "metadata": {},
   "source": [
    "<h4>4.Collect posts from fcb page</h4>"
   ]
  },
  {
   "cell_type": "code",
   "execution_count": 4,
   "id": "1a6b94c2",
   "metadata": {},
   "outputs": [],
   "source": [
    "import requests\n",
    "\n",
    "def get_facebook_posts(page_id, token, topic=None, limit=10):\n",
    "    url = f\"https://graph.facebook.com/v18.0/{page_id}/posts\"\n",
    "    params = {\n",
    "        \"access_token\": token,\n",
    "        \"fields\": \"message,full_picture,created_time,comments{message,from}\",\n",
    "        \"limit\": limit\n",
    "    }\n",
    "\n",
    "    response = requests.get(url, params=params)\n",
    "    data = response.json()\n",
    "    \n",
    "    posts = data.get(\"data\", [])\n",
    "    filtered_posts = []\n",
    "\n",
    "    for post in posts:\n",
    "        message = post.get(\"message\", \"\")\n",
    "        if topic is None or topic.lower() in message.lower():\n",
    "            filtered_posts.append({\n",
    "                \"message\": message,\n",
    "                \"image\": post.get(\"full_picture\"),\n",
    "                \"created_time\": post.get(\"created_time\"),\n",
    "                \"comments\": [\n",
    "                    {\"user\": c[\"from\"][\"name\"], \"text\": c[\"message\"]} \n",
    "                    for c in post.get(\"comments\", {}).get(\"data\", [])\n",
    "                ] if post.get(\"comments\") else []\n",
    "            })\n",
    "    \n",
    "    return filtered_posts\n"
   ]
  },
  {
   "cell_type": "markdown",
   "id": "67ea3576",
   "metadata": {},
   "source": [
    "<h4>5. Save posts to MongoDB</h4>"
   ]
  },
  {
   "cell_type": "code",
   "execution_count": 5,
   "id": "2b41f9d2",
   "metadata": {},
   "outputs": [],
   "source": [
    "def save_to_mongo(posts):\n",
    "    if posts:\n",
    "        collection.insert_many(posts)\n",
    "        print(f\"{len(posts)} posts saved to MongoDB.\")\n",
    "    else:\n",
    "        print(\"No matching posts found.\")\n"
   ]
  },
  {
   "cell_type": "markdown",
   "id": "d2bd5049",
   "metadata": {},
   "source": [
    "<h4>6. Execute the connector</h4>"
   ]
  },
  {
   "cell_type": "code",
   "execution_count": 6,
   "id": "74d8ccdd",
   "metadata": {},
   "outputs": [
    {
     "name": "stdout",
     "output_type": "stream",
     "text": [
      "No matching posts found.\n"
     ]
    }
   ],
   "source": [
    "topic = \"Jacques Chirac\"\n",
    "\n",
    "posts = get_facebook_posts(PAGE_ID, ACCESS_TOKEN, topic=topic)\n",
    "save_to_mongo(posts)\n"
   ]
  },
  {
   "cell_type": "code",
   "execution_count": null,
   "id": "77491b2b",
   "metadata": {},
   "outputs": [],
   "source": []
  }
 ],
 "metadata": {
  "kernelspec": {
   "display_name": "Python 3 (ipykernel)",
   "language": "python",
   "name": "python3"
  },
  "language_info": {
   "codemirror_mode": {
    "name": "ipython",
    "version": 3
   },
   "file_extension": ".py",
   "mimetype": "text/x-python",
   "name": "python",
   "nbconvert_exporter": "python",
   "pygments_lexer": "ipython3",
   "version": "3.11.5"
  }
 },
 "nbformat": 4,
 "nbformat_minor": 5
}
